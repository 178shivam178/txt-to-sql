{
 "cells": [
  {
   "cell_type": "code",
   "execution_count": 1,
   "id": "c043337d",
   "metadata": {
    "execution": {
     "iopub.execute_input": "2024-09-03T08:28:01.603407Z",
     "iopub.status.busy": "2024-09-03T08:28:01.602527Z",
     "iopub.status.idle": "2024-09-03T08:28:51.971129Z",
     "shell.execute_reply": "2024-09-03T08:28:51.970159Z"
    },
    "papermill": {
     "duration": 50.377581,
     "end_time": "2024-09-03T08:28:51.973417",
     "exception": false,
     "start_time": "2024-09-03T08:28:01.595836",
     "status": "completed"
    },
    "tags": []
   },
   "outputs": [
    {
     "name": "stdout",
     "output_type": "stream",
     "text": [
      "Requirement already satisfied: transformers in /opt/conda/lib/python3.10/site-packages (4.39.3)\r\n",
      "Collecting transformers\r\n",
      "  Downloading transformers-4.44.2-py3-none-any.whl.metadata (43 kB)\r\n",
      "\u001b[2K     \u001b[90m━━━━━━━━━━━━━━━━━━━━━━━━━━━━━━━━━━━━━━━\u001b[0m \u001b[32m43.7/43.7 kB\u001b[0m \u001b[31m779.5 kB/s\u001b[0m eta \u001b[36m0:00:00\u001b[0m\r\n",
      "\u001b[?25hRequirement already satisfied: datasets in /opt/conda/lib/python3.10/site-packages (2.18.0)\r\n",
      "Collecting datasets\r\n",
      "  Downloading datasets-2.21.0-py3-none-any.whl.metadata (21 kB)\r\n",
      "Requirement already satisfied: accelerate in /opt/conda/lib/python3.10/site-packages (0.29.3)\r\n",
      "Collecting accelerate\r\n",
      "  Downloading accelerate-0.34.0-py3-none-any.whl.metadata (19 kB)\r\n",
      "Collecting evaluate\r\n",
      "  Downloading evaluate-0.4.2-py3-none-any.whl.metadata (9.3 kB)\r\n",
      "Collecting bitsandbytes\r\n",
      "  Downloading bitsandbytes-0.43.3-py3-none-manylinux_2_24_x86_64.whl.metadata (3.5 kB)\r\n",
      "Collecting trl\r\n",
      "  Downloading trl-0.10.1-py3-none-any.whl.metadata (12 kB)\r\n",
      "Collecting peft\r\n",
      "  Downloading peft-0.12.0-py3-none-any.whl.metadata (13 kB)\r\n",
      "Requirement already satisfied: filelock in /opt/conda/lib/python3.10/site-packages (from transformers) (3.13.1)\r\n",
      "Collecting huggingface-hub<1.0,>=0.23.2 (from transformers)\r\n",
      "  Downloading huggingface_hub-0.24.6-py3-none-any.whl.metadata (13 kB)\r\n",
      "Requirement already satisfied: numpy>=1.17 in /opt/conda/lib/python3.10/site-packages (from transformers) (1.26.4)\r\n",
      "Requirement already satisfied: packaging>=20.0 in /opt/conda/lib/python3.10/site-packages (from transformers) (21.3)\r\n",
      "Requirement already satisfied: pyyaml>=5.1 in /opt/conda/lib/python3.10/site-packages (from transformers) (6.0.1)\r\n",
      "Requirement already satisfied: regex!=2019.12.17 in /opt/conda/lib/python3.10/site-packages (from transformers) (2023.12.25)\r\n",
      "Requirement already satisfied: requests in /opt/conda/lib/python3.10/site-packages (from transformers) (2.31.0)\r\n",
      "Requirement already satisfied: safetensors>=0.4.1 in /opt/conda/lib/python3.10/site-packages (from transformers) (0.4.3)\r\n",
      "Collecting tokenizers<0.20,>=0.19 (from transformers)\r\n",
      "  Downloading tokenizers-0.19.1-cp310-cp310-manylinux_2_17_x86_64.manylinux2014_x86_64.whl.metadata (6.7 kB)\r\n",
      "Requirement already satisfied: tqdm>=4.27 in /opt/conda/lib/python3.10/site-packages (from transformers) (4.66.1)\r\n",
      "Requirement already satisfied: pyarrow>=15.0.0 in /opt/conda/lib/python3.10/site-packages (from datasets) (15.0.2)\r\n",
      "Requirement already satisfied: dill<0.3.9,>=0.3.0 in /opt/conda/lib/python3.10/site-packages (from datasets) (0.3.8)\r\n",
      "Requirement already satisfied: pandas in /opt/conda/lib/python3.10/site-packages (from datasets) (2.1.4)\r\n",
      "Collecting requests (from transformers)\r\n",
      "  Downloading requests-2.32.3-py3-none-any.whl.metadata (4.6 kB)\r\n",
      "Collecting tqdm>=4.27 (from transformers)\r\n",
      "  Downloading tqdm-4.66.5-py3-none-any.whl.metadata (57 kB)\r\n",
      "\u001b[2K     \u001b[90m━━━━━━━━━━━━━━━━━━━━━━━━━━━━━━━━━━━━━━━━\u001b[0m \u001b[32m57.6/57.6 kB\u001b[0m \u001b[31m2.3 MB/s\u001b[0m eta \u001b[36m0:00:00\u001b[0m\r\n",
      "\u001b[?25hRequirement already satisfied: xxhash in /opt/conda/lib/python3.10/site-packages (from datasets) (3.4.1)\r\n",
      "Requirement already satisfied: multiprocess in /opt/conda/lib/python3.10/site-packages (from datasets) (0.70.16)\r\n",
      "Requirement already satisfied: fsspec<=2024.6.1,>=2023.1.0 in /opt/conda/lib/python3.10/site-packages (from fsspec[http]<=2024.6.1,>=2023.1.0->datasets) (2024.2.0)\r\n",
      "Requirement already satisfied: aiohttp in /opt/conda/lib/python3.10/site-packages (from datasets) (3.9.1)\r\n",
      "Requirement already satisfied: psutil in /opt/conda/lib/python3.10/site-packages (from accelerate) (5.9.3)\r\n",
      "Requirement already satisfied: torch>=1.10.0 in /opt/conda/lib/python3.10/site-packages (from accelerate) (2.1.2)\r\n",
      "Collecting tyro>=0.5.11 (from trl)\r\n",
      "  Downloading tyro-0.8.10-py3-none-any.whl.metadata (8.4 kB)\r\n",
      "Requirement already satisfied: attrs>=17.3.0 in /opt/conda/lib/python3.10/site-packages (from aiohttp->datasets) (23.2.0)\r\n",
      "Requirement already satisfied: multidict<7.0,>=4.5 in /opt/conda/lib/python3.10/site-packages (from aiohttp->datasets) (6.0.4)\r\n",
      "Requirement already satisfied: yarl<2.0,>=1.0 in /opt/conda/lib/python3.10/site-packages (from aiohttp->datasets) (1.9.3)\r\n",
      "Requirement already satisfied: frozenlist>=1.1.1 in /opt/conda/lib/python3.10/site-packages (from aiohttp->datasets) (1.4.1)\r\n",
      "Requirement already satisfied: aiosignal>=1.1.2 in /opt/conda/lib/python3.10/site-packages (from aiohttp->datasets) (1.3.1)\r\n",
      "Requirement already satisfied: async-timeout<5.0,>=4.0 in /opt/conda/lib/python3.10/site-packages (from aiohttp->datasets) (4.0.3)\r\n",
      "Requirement already satisfied: typing-extensions>=3.7.4.3 in /opt/conda/lib/python3.10/site-packages (from huggingface-hub<1.0,>=0.23.2->transformers) (4.9.0)\r\n",
      "Requirement already satisfied: pyparsing!=3.0.5,>=2.0.2 in /opt/conda/lib/python3.10/site-packages (from packaging>=20.0->transformers) (3.1.1)\r\n",
      "Requirement already satisfied: charset-normalizer<4,>=2 in /opt/conda/lib/python3.10/site-packages (from requests->transformers) (3.3.2)\r\n",
      "Requirement already satisfied: idna<4,>=2.5 in /opt/conda/lib/python3.10/site-packages (from requests->transformers) (3.6)\r\n",
      "Requirement already satisfied: urllib3<3,>=1.21.1 in /opt/conda/lib/python3.10/site-packages (from requests->transformers) (1.26.18)\r\n",
      "Requirement already satisfied: certifi>=2017.4.17 in /opt/conda/lib/python3.10/site-packages (from requests->transformers) (2024.2.2)\r\n",
      "Requirement already satisfied: sympy in /opt/conda/lib/python3.10/site-packages (from torch>=1.10.0->accelerate) (1.12)\r\n",
      "Requirement already satisfied: networkx in /opt/conda/lib/python3.10/site-packages (from torch>=1.10.0->accelerate) (3.2.1)\r\n",
      "Requirement already satisfied: jinja2 in /opt/conda/lib/python3.10/site-packages (from torch>=1.10.0->accelerate) (3.1.2)\r\n",
      "Collecting docstring-parser>=0.16 (from tyro>=0.5.11->trl)\r\n",
      "  Downloading docstring_parser-0.16-py3-none-any.whl.metadata (3.0 kB)\r\n",
      "Requirement already satisfied: rich>=11.1.0 in /opt/conda/lib/python3.10/site-packages (from tyro>=0.5.11->trl) (13.7.0)\r\n",
      "Collecting shtab>=1.5.6 (from tyro>=0.5.11->trl)\r\n",
      "  Downloading shtab-1.7.1-py3-none-any.whl.metadata (7.3 kB)\r\n",
      "Requirement already satisfied: python-dateutil>=2.8.2 in /opt/conda/lib/python3.10/site-packages (from pandas->datasets) (2.9.0.post0)\r\n",
      "Requirement already satisfied: pytz>=2020.1 in /opt/conda/lib/python3.10/site-packages (from pandas->datasets) (2023.3.post1)\r\n",
      "Requirement already satisfied: tzdata>=2022.1 in /opt/conda/lib/python3.10/site-packages (from pandas->datasets) (2023.4)\r\n",
      "Requirement already satisfied: six>=1.5 in /opt/conda/lib/python3.10/site-packages (from python-dateutil>=2.8.2->pandas->datasets) (1.16.0)\r\n",
      "Requirement already satisfied: markdown-it-py>=2.2.0 in /opt/conda/lib/python3.10/site-packages (from rich>=11.1.0->tyro>=0.5.11->trl) (3.0.0)\r\n",
      "Requirement already satisfied: pygments<3.0.0,>=2.13.0 in /opt/conda/lib/python3.10/site-packages (from rich>=11.1.0->tyro>=0.5.11->trl) (2.17.2)\r\n",
      "Requirement already satisfied: MarkupSafe>=2.0 in /opt/conda/lib/python3.10/site-packages (from jinja2->torch>=1.10.0->accelerate) (2.1.3)\r\n",
      "Requirement already satisfied: mpmath>=0.19 in /opt/conda/lib/python3.10/site-packages (from sympy->torch>=1.10.0->accelerate) (1.3.0)\r\n",
      "Requirement already satisfied: mdurl~=0.1 in /opt/conda/lib/python3.10/site-packages (from markdown-it-py>=2.2.0->rich>=11.1.0->tyro>=0.5.11->trl) (0.1.2)\r\n",
      "Downloading transformers-4.44.2-py3-none-any.whl (9.5 MB)\r\n",
      "\u001b[2K   \u001b[90m━━━━━━━━━━━━━━━━━━━━━━━━━━━━━━━━━━━━━━━━\u001b[0m \u001b[32m9.5/9.5 MB\u001b[0m \u001b[31m32.2 MB/s\u001b[0m eta \u001b[36m0:00:00\u001b[0m\r\n",
      "\u001b[?25hDownloading datasets-2.21.0-py3-none-any.whl (527 kB)\r\n",
      "\u001b[2K   \u001b[90m━━━━━━━━━━━━━━━━━━━━━━━━━━━━━━━━━━━━━━━━\u001b[0m \u001b[32m527.3/527.3 kB\u001b[0m \u001b[31m32.2 MB/s\u001b[0m eta \u001b[36m0:00:00\u001b[0m\r\n",
      "\u001b[?25hDownloading accelerate-0.34.0-py3-none-any.whl (324 kB)\r\n",
      "\u001b[2K   \u001b[90m━━━━━━━━━━━━━━━━━━━━━━━━━━━━━━━━━━━━━━━━\u001b[0m \u001b[32m324.3/324.3 kB\u001b[0m \u001b[31m22.4 MB/s\u001b[0m eta \u001b[36m0:00:00\u001b[0m\r\n",
      "\u001b[?25hDownloading evaluate-0.4.2-py3-none-any.whl (84 kB)\r\n",
      "\u001b[2K   \u001b[90m━━━━━━━━━━━━━━━━━━━━━━━━━━━━━━━━━━━━━━━━\u001b[0m \u001b[32m84.1/84.1 kB\u001b[0m \u001b[31m6.4 MB/s\u001b[0m eta \u001b[36m0:00:00\u001b[0m\r\n",
      "\u001b[?25hDownloading bitsandbytes-0.43.3-py3-none-manylinux_2_24_x86_64.whl (137.5 MB)\r\n",
      "\u001b[2K   \u001b[90m━━━━━━━━━━━━━━━━━━━━━━━━━━━━━━━━━━━━━━━━\u001b[0m \u001b[32m137.5/137.5 MB\u001b[0m \u001b[31m11.5 MB/s\u001b[0m eta \u001b[36m0:00:00\u001b[0m\r\n",
      "\u001b[?25hDownloading trl-0.10.1-py3-none-any.whl (280 kB)\r\n",
      "\u001b[2K   \u001b[90m━━━━━━━━━━━━━━━━━━━━━━━━━━━━━━━━━━━━━━━━\u001b[0m \u001b[32m280.1/280.1 kB\u001b[0m \u001b[31m18.4 MB/s\u001b[0m eta \u001b[36m0:00:00\u001b[0m\r\n",
      "\u001b[?25hDownloading peft-0.12.0-py3-none-any.whl (296 kB)\r\n",
      "\u001b[2K   \u001b[90m━━━━━━━━━━━━━━━━━━━━━━━━━━━━━━━━━━━━━━━━\u001b[0m \u001b[32m296.4/296.4 kB\u001b[0m \u001b[31m21.1 MB/s\u001b[0m eta \u001b[36m0:00:00\u001b[0m\r\n",
      "\u001b[?25hDownloading huggingface_hub-0.24.6-py3-none-any.whl (417 kB)\r\n",
      "\u001b[2K   \u001b[90m━━━━━━━━━━━━━━━━━━━━━━━━━━━━━━━━━━━━━━━━\u001b[0m \u001b[32m417.5/417.5 kB\u001b[0m \u001b[31m29.4 MB/s\u001b[0m eta \u001b[36m0:00:00\u001b[0m\r\n",
      "\u001b[?25hDownloading requests-2.32.3-py3-none-any.whl (64 kB)\r\n",
      "\u001b[2K   \u001b[90m━━━━━━━━━━━━━━━━━━━━━━━━━━━━━━━━━━━━━━━━\u001b[0m \u001b[32m64.9/64.9 kB\u001b[0m \u001b[31m4.8 MB/s\u001b[0m eta \u001b[36m0:00:00\u001b[0m\r\n",
      "\u001b[?25hDownloading tokenizers-0.19.1-cp310-cp310-manylinux_2_17_x86_64.manylinux2014_x86_64.whl (3.6 MB)\r\n",
      "\u001b[2K   \u001b[90m━━━━━━━━━━━━━━━━━━━━━━━━━━━━━━━━━━━━━━━━\u001b[0m \u001b[32m3.6/3.6 MB\u001b[0m \u001b[31m78.4 MB/s\u001b[0m eta \u001b[36m0:00:00\u001b[0m\r\n",
      "\u001b[?25hDownloading tqdm-4.66.5-py3-none-any.whl (78 kB)\r\n",
      "\u001b[2K   \u001b[90m━━━━━━━━━━━━━━━━━━━━━━━━━━━━━━━━━━━━━━━━\u001b[0m \u001b[32m78.4/78.4 kB\u001b[0m \u001b[31m6.7 MB/s\u001b[0m eta \u001b[36m0:00:00\u001b[0m\r\n",
      "\u001b[?25hDownloading tyro-0.8.10-py3-none-any.whl (105 kB)\r\n",
      "\u001b[2K   \u001b[90m━━━━━━━━━━━━━━━━━━━━━━━━━━━━━━━━━━━━━━━━\u001b[0m \u001b[32m105.7/105.7 kB\u001b[0m \u001b[31m8.4 MB/s\u001b[0m eta \u001b[36m0:00:00\u001b[0m\r\n",
      "\u001b[?25hDownloading docstring_parser-0.16-py3-none-any.whl (36 kB)\r\n",
      "Downloading shtab-1.7.1-py3-none-any.whl (14 kB)\r\n",
      "Installing collected packages: tqdm, shtab, requests, docstring-parser, huggingface-hub, tyro, tokenizers, bitsandbytes, accelerate, transformers, datasets, trl, peft, evaluate\r\n",
      "  Attempting uninstall: tqdm\r\n",
      "    Found existing installation: tqdm 4.66.1\r\n",
      "    Uninstalling tqdm-4.66.1:\r\n",
      "      Successfully uninstalled tqdm-4.66.1\r\n",
      "  Attempting uninstall: requests\r\n",
      "    Found existing installation: requests 2.31.0\r\n",
      "    Uninstalling requests-2.31.0:\r\n",
      "      Successfully uninstalled requests-2.31.0\r\n",
      "  Attempting uninstall: docstring-parser\r\n",
      "    Found existing installation: docstring-parser 0.15\r\n",
      "    Uninstalling docstring-parser-0.15:\r\n",
      "      Successfully uninstalled docstring-parser-0.15\r\n",
      "  Attempting uninstall: huggingface-hub\r\n",
      "    Found existing installation: huggingface-hub 0.22.2\r\n",
      "    Uninstalling huggingface-hub-0.22.2:\r\n",
      "      Successfully uninstalled huggingface-hub-0.22.2\r\n",
      "  Attempting uninstall: tokenizers\r\n",
      "    Found existing installation: tokenizers 0.15.2\r\n",
      "    Uninstalling tokenizers-0.15.2:\r\n",
      "      Successfully uninstalled tokenizers-0.15.2\r\n",
      "  Attempting uninstall: accelerate\r\n",
      "    Found existing installation: accelerate 0.29.3\r\n",
      "    Uninstalling accelerate-0.29.3:\r\n",
      "      Successfully uninstalled accelerate-0.29.3\r\n",
      "  Attempting uninstall: transformers\r\n",
      "    Found existing installation: transformers 4.39.3\r\n",
      "    Uninstalling transformers-4.39.3:\r\n",
      "      Successfully uninstalled transformers-4.39.3\r\n",
      "  Attempting uninstall: datasets\r\n",
      "    Found existing installation: datasets 2.18.0\r\n",
      "    Uninstalling datasets-2.18.0:\r\n",
      "      Successfully uninstalled datasets-2.18.0\r\n",
      "\u001b[31mERROR: pip's dependency resolver does not currently take into account all the packages that are installed. This behaviour is the source of the following dependency conflicts.\r\n",
      "keras-cv 0.8.2 requires keras-core, which is not installed.\r\n",
      "keras-nlp 0.9.3 requires keras-core, which is not installed.\r\n",
      "tensorflow-decision-forests 1.8.1 requires wurlitzer, which is not installed.\r\n",
      "apache-beam 2.46.0 requires dill<0.3.2,>=0.3.1.1, but you have dill 0.3.8 which is incompatible.\r\n",
      "apache-beam 2.46.0 requires numpy<1.25.0,>=1.14.3, but you have numpy 1.26.4 which is incompatible.\r\n",
      "apache-beam 2.46.0 requires pyarrow<10.0.0,>=3.0.0, but you have pyarrow 15.0.2 which is incompatible.\r\n",
      "beatrix-jupyterlab 2023.128.151533 requires jupyterlab~=3.6.0, but you have jupyterlab 4.1.6 which is incompatible.\r\n",
      "google-cloud-aiplatform 0.6.0a1 requires google-api-core[grpc]<2.0.0dev,>=1.22.2, but you have google-api-core 2.11.1 which is incompatible.\r\n",
      "google-cloud-automl 1.0.1 requires google-api-core[grpc]<2.0.0dev,>=1.14.0, but you have google-api-core 2.11.1 which is incompatible.\r\n",
      "google-cloud-pubsub 2.19.0 requires grpcio<2.0dev,>=1.51.3, but you have grpcio 1.51.1 which is incompatible.\r\n",
      "kfp 2.5.0 requires google-cloud-storage<3,>=2.2.1, but you have google-cloud-storage 1.44.0 which is incompatible.\r\n",
      "libpysal 4.9.2 requires packaging>=22, but you have packaging 21.3 which is incompatible.\r\n",
      "libpysal 4.9.2 requires shapely>=2.0.1, but you have shapely 1.8.5.post1 which is incompatible.\r\n",
      "momepy 0.7.0 requires shapely>=2, but you have shapely 1.8.5.post1 which is incompatible.\r\n",
      "osmnx 1.9.2 requires shapely>=2.0, but you have shapely 1.8.5.post1 which is incompatible.\r\n",
      "spopt 0.6.0 requires shapely>=2.0.1, but you have shapely 1.8.5.post1 which is incompatible.\r\n",
      "tensorflow 2.15.0 requires keras<2.16,>=2.15.0, but you have keras 3.2.1 which is incompatible.\r\n",
      "ydata-profiling 4.6.4 requires numpy<1.26,>=1.16.0, but you have numpy 1.26.4 which is incompatible.\u001b[0m\u001b[31m\r\n",
      "\u001b[0mSuccessfully installed accelerate-0.34.0 bitsandbytes-0.43.3 datasets-2.21.0 docstring-parser-0.16 evaluate-0.4.2 huggingface-hub-0.24.6 peft-0.12.0 requests-2.32.3 shtab-1.7.1 tokenizers-0.19.1 tqdm-4.66.5 transformers-4.44.2 trl-0.10.1 tyro-0.8.10\r\n",
      "Requirement already satisfied: tensorboardX in /opt/conda/lib/python3.10/site-packages (2.6.2.2)\r\n",
      "Requirement already satisfied: numpy in /opt/conda/lib/python3.10/site-packages (from tensorboardX) (1.26.4)\r\n",
      "Requirement already satisfied: packaging in /opt/conda/lib/python3.10/site-packages (from tensorboardX) (21.3)\r\n",
      "Requirement already satisfied: protobuf>=3.20 in /opt/conda/lib/python3.10/site-packages (from tensorboardX) (3.20.3)\r\n",
      "Requirement already satisfied: pyparsing!=3.0.5,>=2.0.2 in /opt/conda/lib/python3.10/site-packages (from packaging->tensorboardX) (3.1.1)\r\n"
     ]
    }
   ],
   "source": [
    "!pip install  --upgrade \"transformers\"   \"datasets\"  \"accelerate\"  \"evaluate\"  \"bitsandbytes\"  \"trl\"  \"peft\" \n",
    "!pip install tensorboardX"
   ]
  },
  {
   "cell_type": "code",
   "execution_count": 2,
   "id": "3327285d",
   "metadata": {
    "execution": {
     "iopub.execute_input": "2024-09-03T08:28:52.009612Z",
     "iopub.status.busy": "2024-09-03T08:28:52.008753Z",
     "iopub.status.idle": "2024-09-03T08:29:05.098572Z",
     "shell.execute_reply": "2024-09-03T08:29:05.097508Z"
    },
    "papermill": {
     "duration": 13.110055,
     "end_time": "2024-09-03T08:29:05.101019",
     "exception": false,
     "start_time": "2024-09-03T08:28:51.990964",
     "status": "completed"
    },
    "tags": []
   },
   "outputs": [
    {
     "name": "stdout",
     "output_type": "stream",
     "text": [
      "Collecting pyngrok\r\n",
      "  Downloading pyngrok-7.2.0-py3-none-any.whl.metadata (7.4 kB)\r\n",
      "Requirement already satisfied: PyYAML>=5.1 in /opt/conda/lib/python3.10/site-packages (from pyngrok) (6.0.1)\r\n",
      "Downloading pyngrok-7.2.0-py3-none-any.whl (22 kB)\r\n",
      "Installing collected packages: pyngrok\r\n",
      "Successfully installed pyngrok-7.2.0\r\n"
     ]
    }
   ],
   "source": [
    "!pip install pyngrok"
   ]
  },
  {
   "cell_type": "code",
   "execution_count": 3,
   "id": "c0d49926",
   "metadata": {
    "execution": {
     "iopub.execute_input": "2024-09-03T08:29:05.133667Z",
     "iopub.status.busy": "2024-09-03T08:29:05.132859Z",
     "iopub.status.idle": "2024-09-03T08:29:07.155082Z",
     "shell.execute_reply": "2024-09-03T08:29:07.154063Z"
    },
    "papermill": {
     "duration": 2.041032,
     "end_time": "2024-09-03T08:29:07.157504",
     "exception": false,
     "start_time": "2024-09-03T08:29:05.116472",
     "status": "completed"
    },
    "tags": []
   },
   "outputs": [
    {
     "name": "stdout",
     "output_type": "stream",
     "text": [
      "Authtoken saved to configuration file: /root/.config/ngrok/ngrok.yml\r\n"
     ]
    }
   ],
   "source": [
    "!ngrok config add-authtoken 2fit1joWazA2g1HFUROudShO7KI_2siPG2oNzQDpo8RdgjVCm"
   ]
  },
  {
   "cell_type": "code",
   "execution_count": 4,
   "id": "5d5d0cae",
   "metadata": {
    "execution": {
     "iopub.execute_input": "2024-09-03T08:29:07.193486Z",
     "iopub.status.busy": "2024-09-03T08:29:07.192853Z",
     "iopub.status.idle": "2024-09-03T08:29:12.639812Z",
     "shell.execute_reply": "2024-09-03T08:29:12.639026Z"
    },
    "papermill": {
     "duration": 5.468072,
     "end_time": "2024-09-03T08:29:12.642147",
     "exception": false,
     "start_time": "2024-09-03T08:29:07.174075",
     "status": "completed"
    },
    "tags": []
   },
   "outputs": [],
   "source": [
    "from flask import Flask, request, jsonify\n",
    "from time import time\n",
    "import torch\n",
    "import transformers\n",
    "from pyngrok import ngrok\n",
    "import threading\n",
    "import pandas as pd\n",
    "import json\n",
    "import numpy as np\n",
    "import os\n",
    "from huggingface_hub import notebook_login\n",
    "\n",
    "from peft import LoraConfig, PeftConfig, PeftModel\n",
    "from transformers import AutoConfig, AutoModelForCausalLM, AutoTokenizer, BitsAndBytesConfig\n",
    "\n",
    "os.environ[\"CUDA_VISIBLE_DEVICES\"] = \"0,1\""
   ]
  },
  {
   "cell_type": "code",
   "execution_count": 5,
   "id": "5ab9b4e2",
   "metadata": {
    "execution": {
     "iopub.execute_input": "2024-09-03T08:29:12.675955Z",
     "iopub.status.busy": "2024-09-03T08:29:12.675455Z",
     "iopub.status.idle": "2024-09-03T08:29:12.682061Z",
     "shell.execute_reply": "2024-09-03T08:29:12.681381Z"
    },
    "papermill": {
     "duration": 0.025424,
     "end_time": "2024-09-03T08:29:12.684038",
     "exception": false,
     "start_time": "2024-09-03T08:29:12.658614",
     "status": "completed"
    },
    "tags": []
   },
   "outputs": [],
   "source": [
    "app = Flask(__name__)\n",
    "pipeline = None"
   ]
  },
  {
   "cell_type": "code",
   "execution_count": 6,
   "id": "03be4e37",
   "metadata": {
    "execution": {
     "iopub.execute_input": "2024-09-03T08:29:12.718356Z",
     "iopub.status.busy": "2024-09-03T08:29:12.718033Z",
     "iopub.status.idle": "2024-09-03T08:29:12.722553Z",
     "shell.execute_reply": "2024-09-03T08:29:12.721671Z"
    },
    "papermill": {
     "duration": 0.024053,
     "end_time": "2024-09-03T08:29:12.724544",
     "exception": false,
     "start_time": "2024-09-03T08:29:12.700491",
     "status": "completed"
    },
    "tags": []
   },
   "outputs": [],
   "source": [
    "temperature=0.7\n",
    "max_length=256\n",
    "top_p=0.9\n",
    "model_name = \"/kaggle/input/llama-3/transformers/8b-chat-hf/1\""
   ]
  },
  {
   "cell_type": "code",
   "execution_count": 7,
   "id": "4ad46d0f",
   "metadata": {
    "execution": {
     "iopub.execute_input": "2024-09-03T08:29:12.758694Z",
     "iopub.status.busy": "2024-09-03T08:29:12.758401Z",
     "iopub.status.idle": "2024-09-03T08:29:12.762129Z",
     "shell.execute_reply": "2024-09-03T08:29:12.761288Z"
    },
    "papermill": {
     "duration": 0.022699,
     "end_time": "2024-09-03T08:29:12.764060",
     "exception": false,
     "start_time": "2024-09-03T08:29:12.741361",
     "status": "completed"
    },
    "tags": []
   },
   "outputs": [],
   "source": [
    "# peft_model_id = \"Shivam17818/llama3-8b-instruct-text-to-sql-order_values\"\n",
    "# config = PeftConfig.from_pretrained(peft_model_id)"
   ]
  },
  {
   "cell_type": "code",
   "execution_count": 8,
   "id": "f65821f0",
   "metadata": {
    "execution": {
     "iopub.execute_input": "2024-09-03T08:29:12.796203Z",
     "iopub.status.busy": "2024-09-03T08:29:12.795908Z",
     "iopub.status.idle": "2024-09-03T08:29:12.801484Z",
     "shell.execute_reply": "2024-09-03T08:29:12.800588Z"
    },
    "papermill": {
     "duration": 0.023953,
     "end_time": "2024-09-03T08:29:12.803383",
     "exception": false,
     "start_time": "2024-09-03T08:29:12.779430",
     "status": "completed"
    },
    "tags": []
   },
   "outputs": [],
   "source": [
    "\n",
    "bnb_config = BitsAndBytesConfig(\n",
    "    load_in_4bit=True,\n",
    "    bnb_4bit_use_double_quant=True,\n",
    "    bnb_4bit_quant_type=\"nf4\",\n",
    "    bnb_4bit_compute_dtype=torch.bfloat16\n",
    ")"
   ]
  },
  {
   "cell_type": "code",
   "execution_count": 9,
   "id": "be09a29e",
   "metadata": {
    "execution": {
     "iopub.execute_input": "2024-09-03T08:29:12.835387Z",
     "iopub.status.busy": "2024-09-03T08:29:12.835107Z",
     "iopub.status.idle": "2024-09-03T08:30:52.501189Z",
     "shell.execute_reply": "2024-09-03T08:30:52.500331Z"
    },
    "papermill": {
     "duration": 99.684766,
     "end_time": "2024-09-03T08:30:52.503527",
     "exception": false,
     "start_time": "2024-09-03T08:29:12.818761",
     "status": "completed"
    },
    "tags": []
   },
   "outputs": [
    {
     "data": {
      "application/vnd.jupyter.widget-view+json": {
       "model_id": "77babc570318471ba7e7da4f67c511a7",
       "version_major": 2,
       "version_minor": 0
      },
      "text/plain": [
       "Loading checkpoint shards:   0%|          | 0/4 [00:00<?, ?it/s]"
      ]
     },
     "metadata": {},
     "output_type": "display_data"
    }
   ],
   "source": [
    "model = AutoModelForCausalLM.from_pretrained(\n",
    "    model_name,\n",
    "    return_dict=True,\n",
    "    quantization_config=bnb_config,\n",
    "    device_map=\"auto\",\n",
    "    trust_remote_code=True\n",
    ")\n",
    "# model.load_adapter(peft_model_id)"
   ]
  },
  {
   "cell_type": "code",
   "execution_count": 10,
   "id": "f0eba544",
   "metadata": {
    "execution": {
     "iopub.execute_input": "2024-09-03T08:30:52.538011Z",
     "iopub.status.busy": "2024-09-03T08:30:52.537402Z",
     "iopub.status.idle": "2024-09-03T08:30:52.968985Z",
     "shell.execute_reply": "2024-09-03T08:30:52.968187Z"
    },
    "papermill": {
     "duration": 0.4513,
     "end_time": "2024-09-03T08:30:52.971293",
     "exception": false,
     "start_time": "2024-09-03T08:30:52.519993",
     "status": "completed"
    },
    "tags": []
   },
   "outputs": [],
   "source": [
    "tokenizer = AutoTokenizer.from_pretrained(model_name,\n",
    "                                          padding_side = \"right\",\n",
    "                                          add_eos_token = True)\n",
    "tokenizer.pad_token = tokenizer.eos_token"
   ]
  },
  {
   "cell_type": "code",
   "execution_count": 11,
   "id": "d9f795bc",
   "metadata": {
    "execution": {
     "iopub.execute_input": "2024-09-03T08:30:53.003897Z",
     "iopub.status.busy": "2024-09-03T08:30:53.003593Z",
     "iopub.status.idle": "2024-09-03T08:31:05.761188Z",
     "shell.execute_reply": "2024-09-03T08:31:05.760241Z"
    },
    "papermill": {
     "duration": 12.776285,
     "end_time": "2024-09-03T08:31:05.763573",
     "exception": false,
     "start_time": "2024-09-03T08:30:52.987288",
     "status": "completed"
    },
    "tags": []
   },
   "outputs": [
    {
     "name": "stderr",
     "output_type": "stream",
     "text": [
      "2024-09-03 08:30:55.583166: E external/local_xla/xla/stream_executor/cuda/cuda_dnn.cc:9261] Unable to register cuDNN factory: Attempting to register factory for plugin cuDNN when one has already been registered\n",
      "2024-09-03 08:30:55.583328: E external/local_xla/xla/stream_executor/cuda/cuda_fft.cc:607] Unable to register cuFFT factory: Attempting to register factory for plugin cuFFT when one has already been registered\n",
      "2024-09-03 08:30:55.711727: E external/local_xla/xla/stream_executor/cuda/cuda_blas.cc:1515] Unable to register cuBLAS factory: Attempting to register factory for plugin cuBLAS when one has already been registered\n"
     ]
    }
   ],
   "source": [
    "try:\n",
    "    pipeline = transformers.pipeline(\n",
    "        \"text-generation\",\n",
    "        model=model,\n",
    "        tokenizer=tokenizer, \n",
    "        torch_dtype=torch.float16,\n",
    "        device_map=\"auto\",\n",
    ")\n",
    "except Exception as e:\n",
    "    print(f\"Failed to load the model: {e}\") \n",
    "    raise RuntimeError(\"Failed to initialize the model. Please check the model path and configurations.\")\n"
   ]
  },
  {
   "cell_type": "code",
   "execution_count": 12,
   "id": "877d852e",
   "metadata": {
    "execution": {
     "iopub.execute_input": "2024-09-03T08:31:05.798439Z",
     "iopub.status.busy": "2024-09-03T08:31:05.797751Z",
     "iopub.status.idle": "2024-09-03T08:31:05.806926Z",
     "shell.execute_reply": "2024-09-03T08:31:05.806098Z"
    },
    "papermill": {
     "duration": 0.029223,
     "end_time": "2024-09-03T08:31:05.809046",
     "exception": false,
     "start_time": "2024-09-03T08:31:05.779823",
     "status": "completed"
    },
    "tags": []
   },
   "outputs": [],
   "source": [
    "\n",
    "def query_model(input_prompt,system_message):\n",
    "    start_time = time()\n",
    "    \n",
    "    messages = [\n",
    "        {\"role\": \"system\", \"content\": system_message},\n",
    "        {\"role\": \"user\", \"content\": input_prompt},\n",
    "    ]\n",
    "\n",
    "    try:\n",
    "        prompt = pipeline.tokenizer.apply_chat_template(\n",
    "            messages, \n",
    "            tokenize=False, \n",
    "            add_generation_prompt=True\n",
    "        )\n",
    "    except Exception as e:\n",
    "        raise RuntimeError(f\"Error applying chat template: {e}\")\n",
    "    \n",
    "    terminators = [\n",
    "        pipeline.tokenizer.eos_token_id,\n",
    "\n",
    "        pipeline.tokenizer.convert_tokens_to_ids(\"<|eot_id|>\")\n",
    "    ]\n",
    "    try:\n",
    "        sequences = pipeline(\n",
    "            prompt,\n",
    "            do_sample=True,\n",
    "            top_p=top_p,\n",
    "            temperature=temperature,\n",
    "            eos_token_id=terminators,\n",
    "            max_new_tokens=max_length,\n",
    "            return_full_text=False,\n",
    "            pad_token_id=pipeline.model.config.eos_token_id\n",
    "    )\n",
    "    except Exception as e:\n",
    "        raise RuntimeError(f\"Error during model generation: {e}\")\n",
    "    \n",
    "    generated_query = sequences[0]['generated_text']\n",
    "    end_time = time()\n",
    "    ttime = round(end_time - start_time, 2)\n",
    "\n",
    "    return generated_query, ttime"
   ]
  },
  {
   "cell_type": "code",
   "execution_count": 13,
   "id": "547444cd",
   "metadata": {
    "execution": {
     "iopub.execute_input": "2024-09-03T08:31:05.842318Z",
     "iopub.status.busy": "2024-09-03T08:31:05.842016Z",
     "iopub.status.idle": "2024-09-03T08:31:06.319134Z",
     "shell.execute_reply": "2024-09-03T08:31:06.317241Z"
    },
    "papermill": {
     "duration": 0.496847,
     "end_time": "2024-09-03T08:31:06.322026",
     "exception": false,
     "start_time": "2024-09-03T08:31:05.825179",
     "status": "completed"
    },
    "tags": []
   },
   "outputs": [
    {
     "name": "stdout",
     "output_type": "stream",
     "text": [
      "Public URL: https://09f9-34-121-197-251.ngrok-free.app\n"
     ]
    }
   ],
   "source": [
    "@app.route('/v1/llama/response', methods=['POST'])\n",
    "def query():\n",
    "    if pipeline is None:\n",
    "        return jsonify({\"error\": \"Model not initialized properly\"}), 500\n",
    "\n",
    "    try:\n",
    "        data = request.get_json()\n",
    "        if not data:\n",
    "            return jsonify({\"error\": \"Invalid JSON format\"}), 400\n",
    "        \n",
    "        input_prompt = data.get('input_prompt')\n",
    "        system_message = data.get('system_message')\n",
    "        \n",
    "\n",
    "        if not input_prompt or not system_message:\n",
    "            return jsonify({\"error\": \"Missing 'input_prompt' and 'system_message'\"}), 400\n",
    "        \n",
    "        generated_query, ttime = query_model(input_prompt,system_message)\n",
    "        print(generated_query)\n",
    "\n",
    "        return jsonify({\n",
    "            \"generated_query\":generated_query,\n",
    "            \"total_time\": f\"{ttime} sec.\"\n",
    "        })\n",
    "    \n",
    "    except KeyError as e:\n",
    "        return jsonify({\"error\": f\"Missing required parameter: {str(e)}\"}), 400\n",
    "    except RuntimeError as e:\n",
    "        return jsonify({\"error\": str(e)}), 500\n",
    "    except Exception as e:\n",
    "        return jsonify({\"error\": f\"An unexpected error occurred: {str(e)}\"}), 500\n",
    "\n",
    "@app.errorhandler(404)\n",
    "def not_found(error):\n",
    "    return jsonify({\"error\": \"Not Found\"}), 404\n",
    "\n",
    "@app.errorhandler(500)\n",
    "def internal_error(error):\n",
    "    return jsonify({\"error\": \"Internal Server Error\"}), 500\n",
    "\n",
    "def run_flask_app():\n",
    "    app.run(host='0.0.0.0', port=3008)\n",
    "\n",
    "if __name__ == '__main__':\n",
    "    ngrok_tunnel = ngrok.connect(3008)\n",
    "    print(f'Public URL: {ngrok_tunnel.public_url}')\n",
    "    thread = threading.Thread(target=run_flask_app)\n",
    "    thread.start()\n"
   ]
  },
  {
   "cell_type": "code",
   "execution_count": null,
   "id": "f4e9a15c",
   "metadata": {
    "papermill": {
     "duration": 0.016343,
     "end_time": "2024-09-03T08:31:06.361108",
     "exception": false,
     "start_time": "2024-09-03T08:31:06.344765",
     "status": "completed"
    },
    "tags": []
   },
   "outputs": [],
   "source": []
  },
  {
   "cell_type": "code",
   "execution_count": null,
   "id": "61198cae",
   "metadata": {
    "papermill": {
     "duration": 0.016141,
     "end_time": "2024-09-03T08:31:06.393806",
     "exception": false,
     "start_time": "2024-09-03T08:31:06.377665",
     "status": "completed"
    },
    "tags": []
   },
   "outputs": [],
   "source": []
  }
 ],
 "metadata": {
  "kaggle": {
   "accelerator": "nvidiaTeslaT4",
   "dataSources": [
    {
     "isSourceIdPinned": true,
     "modelId": 39106,
     "modelInstanceId": 28083,
     "sourceId": 33551,
     "sourceType": "modelInstanceVersion"
    }
   ],
   "dockerImageVersionId": 30699,
   "isGpuEnabled": true,
   "isInternetEnabled": true,
   "language": "python",
   "sourceType": "notebook"
  },
  "kernelspec": {
   "display_name": "Python 3",
   "language": "python",
   "name": "python3"
  },
  "language_info": {
   "codemirror_mode": {
    "name": "ipython",
    "version": 3
   },
   "file_extension": ".py",
   "mimetype": "text/x-python",
   "name": "python",
   "nbconvert_exporter": "python",
   "pygments_lexer": "ipython3",
   "version": "3.10.13"
  },
  "papermill": {
   "default_parameters": {},
   "duration": 190.26635,
   "end_time": "2024-09-03T08:31:09.128771",
   "environment_variables": {},
   "exception": null,
   "input_path": "__notebook__.ipynb",
   "output_path": "__notebook__.ipynb",
   "parameters": {},
   "start_time": "2024-09-03T08:27:58.862421",
   "version": "2.5.0"
  },
  "widgets": {
   "application/vnd.jupyter.widget-state+json": {
    "state": {
     "1fd643c3e2b44be680202577bc0172f6": {
      "model_module": "@jupyter-widgets/base",
      "model_module_version": "1.2.0",
      "model_name": "LayoutModel",
      "state": {
       "_model_module": "@jupyter-widgets/base",
       "_model_module_version": "1.2.0",
       "_model_name": "LayoutModel",
       "_view_count": null,
       "_view_module": "@jupyter-widgets/base",
       "_view_module_version": "1.2.0",
       "_view_name": "LayoutView",
       "align_content": null,
       "align_items": null,
       "align_self": null,
       "border": null,
       "bottom": null,
       "display": null,
       "flex": null,
       "flex_flow": null,
       "grid_area": null,
       "grid_auto_columns": null,
       "grid_auto_flow": null,
       "grid_auto_rows": null,
       "grid_column": null,
       "grid_gap": null,
       "grid_row": null,
       "grid_template_areas": null,
       "grid_template_columns": null,
       "grid_template_rows": null,
       "height": null,
       "justify_content": null,
       "justify_items": null,
       "left": null,
       "margin": null,
       "max_height": null,
       "max_width": null,
       "min_height": null,
       "min_width": null,
       "object_fit": null,
       "object_position": null,
       "order": null,
       "overflow": null,
       "overflow_x": null,
       "overflow_y": null,
       "padding": null,
       "right": null,
       "top": null,
       "visibility": null,
       "width": null
      }
     },
     "21ee32334a444aa697d7d5718a1b31d2": {
      "model_module": "@jupyter-widgets/base",
      "model_module_version": "1.2.0",
      "model_name": "LayoutModel",
      "state": {
       "_model_module": "@jupyter-widgets/base",
       "_model_module_version": "1.2.0",
       "_model_name": "LayoutModel",
       "_view_count": null,
       "_view_module": "@jupyter-widgets/base",
       "_view_module_version": "1.2.0",
       "_view_name": "LayoutView",
       "align_content": null,
       "align_items": null,
       "align_self": null,
       "border": null,
       "bottom": null,
       "display": null,
       "flex": null,
       "flex_flow": null,
       "grid_area": null,
       "grid_auto_columns": null,
       "grid_auto_flow": null,
       "grid_auto_rows": null,
       "grid_column": null,
       "grid_gap": null,
       "grid_row": null,
       "grid_template_areas": null,
       "grid_template_columns": null,
       "grid_template_rows": null,
       "height": null,
       "justify_content": null,
       "justify_items": null,
       "left": null,
       "margin": null,
       "max_height": null,
       "max_width": null,
       "min_height": null,
       "min_width": null,
       "object_fit": null,
       "object_position": null,
       "order": null,
       "overflow": null,
       "overflow_x": null,
       "overflow_y": null,
       "padding": null,
       "right": null,
       "top": null,
       "visibility": null,
       "width": null
      }
     },
     "77babc570318471ba7e7da4f67c511a7": {
      "model_module": "@jupyter-widgets/controls",
      "model_module_version": "1.5.0",
      "model_name": "HBoxModel",
      "state": {
       "_dom_classes": [],
       "_model_module": "@jupyter-widgets/controls",
       "_model_module_version": "1.5.0",
       "_model_name": "HBoxModel",
       "_view_count": null,
       "_view_module": "@jupyter-widgets/controls",
       "_view_module_version": "1.5.0",
       "_view_name": "HBoxView",
       "box_style": "",
       "children": [
        "IPY_MODEL_d46099210a5e4f928211a6a993249810",
        "IPY_MODEL_8c6424167e14455083fe5c01a9dad94e",
        "IPY_MODEL_b9f53cb4da7544b6bb3ff14a2e704634"
       ],
       "layout": "IPY_MODEL_e2fa6dfb09fb4397a8b307eba94ff6e2"
      }
     },
     "8c6424167e14455083fe5c01a9dad94e": {
      "model_module": "@jupyter-widgets/controls",
      "model_module_version": "1.5.0",
      "model_name": "FloatProgressModel",
      "state": {
       "_dom_classes": [],
       "_model_module": "@jupyter-widgets/controls",
       "_model_module_version": "1.5.0",
       "_model_name": "FloatProgressModel",
       "_view_count": null,
       "_view_module": "@jupyter-widgets/controls",
       "_view_module_version": "1.5.0",
       "_view_name": "ProgressView",
       "bar_style": "success",
       "description": "",
       "description_tooltip": null,
       "layout": "IPY_MODEL_21ee32334a444aa697d7d5718a1b31d2",
       "max": 4.0,
       "min": 0.0,
       "orientation": "horizontal",
       "style": "IPY_MODEL_c6a642e269bf4614b2cd2422e8ba1933",
       "value": 4.0
      }
     },
     "9f5331a4866c478f82ff57bba0f9099f": {
      "model_module": "@jupyter-widgets/controls",
      "model_module_version": "1.5.0",
      "model_name": "DescriptionStyleModel",
      "state": {
       "_model_module": "@jupyter-widgets/controls",
       "_model_module_version": "1.5.0",
       "_model_name": "DescriptionStyleModel",
       "_view_count": null,
       "_view_module": "@jupyter-widgets/base",
       "_view_module_version": "1.2.0",
       "_view_name": "StyleView",
       "description_width": ""
      }
     },
     "b9f53cb4da7544b6bb3ff14a2e704634": {
      "model_module": "@jupyter-widgets/controls",
      "model_module_version": "1.5.0",
      "model_name": "HTMLModel",
      "state": {
       "_dom_classes": [],
       "_model_module": "@jupyter-widgets/controls",
       "_model_module_version": "1.5.0",
       "_model_name": "HTMLModel",
       "_view_count": null,
       "_view_module": "@jupyter-widgets/controls",
       "_view_module_version": "1.5.0",
       "_view_name": "HTMLView",
       "description": "",
       "description_tooltip": null,
       "layout": "IPY_MODEL_1fd643c3e2b44be680202577bc0172f6",
       "placeholder": "​",
       "style": "IPY_MODEL_9f5331a4866c478f82ff57bba0f9099f",
       "value": " 4/4 [01:38&lt;00:00, 21.18s/it]"
      }
     },
     "c6a642e269bf4614b2cd2422e8ba1933": {
      "model_module": "@jupyter-widgets/controls",
      "model_module_version": "1.5.0",
      "model_name": "ProgressStyleModel",
      "state": {
       "_model_module": "@jupyter-widgets/controls",
       "_model_module_version": "1.5.0",
       "_model_name": "ProgressStyleModel",
       "_view_count": null,
       "_view_module": "@jupyter-widgets/base",
       "_view_module_version": "1.2.0",
       "_view_name": "StyleView",
       "bar_color": null,
       "description_width": ""
      }
     },
     "d2df35ffba90453fa561e1857dde70f6": {
      "model_module": "@jupyter-widgets/controls",
      "model_module_version": "1.5.0",
      "model_name": "DescriptionStyleModel",
      "state": {
       "_model_module": "@jupyter-widgets/controls",
       "_model_module_version": "1.5.0",
       "_model_name": "DescriptionStyleModel",
       "_view_count": null,
       "_view_module": "@jupyter-widgets/base",
       "_view_module_version": "1.2.0",
       "_view_name": "StyleView",
       "description_width": ""
      }
     },
     "d46099210a5e4f928211a6a993249810": {
      "model_module": "@jupyter-widgets/controls",
      "model_module_version": "1.5.0",
      "model_name": "HTMLModel",
      "state": {
       "_dom_classes": [],
       "_model_module": "@jupyter-widgets/controls",
       "_model_module_version": "1.5.0",
       "_model_name": "HTMLModel",
       "_view_count": null,
       "_view_module": "@jupyter-widgets/controls",
       "_view_module_version": "1.5.0",
       "_view_name": "HTMLView",
       "description": "",
       "description_tooltip": null,
       "layout": "IPY_MODEL_f0ef1163bdbc4712a293008d80289126",
       "placeholder": "​",
       "style": "IPY_MODEL_d2df35ffba90453fa561e1857dde70f6",
       "value": "Loading checkpoint shards: 100%"
      }
     },
     "e2fa6dfb09fb4397a8b307eba94ff6e2": {
      "model_module": "@jupyter-widgets/base",
      "model_module_version": "1.2.0",
      "model_name": "LayoutModel",
      "state": {
       "_model_module": "@jupyter-widgets/base",
       "_model_module_version": "1.2.0",
       "_model_name": "LayoutModel",
       "_view_count": null,
       "_view_module": "@jupyter-widgets/base",
       "_view_module_version": "1.2.0",
       "_view_name": "LayoutView",
       "align_content": null,
       "align_items": null,
       "align_self": null,
       "border": null,
       "bottom": null,
       "display": null,
       "flex": null,
       "flex_flow": null,
       "grid_area": null,
       "grid_auto_columns": null,
       "grid_auto_flow": null,
       "grid_auto_rows": null,
       "grid_column": null,
       "grid_gap": null,
       "grid_row": null,
       "grid_template_areas": null,
       "grid_template_columns": null,
       "grid_template_rows": null,
       "height": null,
       "justify_content": null,
       "justify_items": null,
       "left": null,
       "margin": null,
       "max_height": null,
       "max_width": null,
       "min_height": null,
       "min_width": null,
       "object_fit": null,
       "object_position": null,
       "order": null,
       "overflow": null,
       "overflow_x": null,
       "overflow_y": null,
       "padding": null,
       "right": null,
       "top": null,
       "visibility": null,
       "width": null
      }
     },
     "f0ef1163bdbc4712a293008d80289126": {
      "model_module": "@jupyter-widgets/base",
      "model_module_version": "1.2.0",
      "model_name": "LayoutModel",
      "state": {
       "_model_module": "@jupyter-widgets/base",
       "_model_module_version": "1.2.0",
       "_model_name": "LayoutModel",
       "_view_count": null,
       "_view_module": "@jupyter-widgets/base",
       "_view_module_version": "1.2.0",
       "_view_name": "LayoutView",
       "align_content": null,
       "align_items": null,
       "align_self": null,
       "border": null,
       "bottom": null,
       "display": null,
       "flex": null,
       "flex_flow": null,
       "grid_area": null,
       "grid_auto_columns": null,
       "grid_auto_flow": null,
       "grid_auto_rows": null,
       "grid_column": null,
       "grid_gap": null,
       "grid_row": null,
       "grid_template_areas": null,
       "grid_template_columns": null,
       "grid_template_rows": null,
       "height": null,
       "justify_content": null,
       "justify_items": null,
       "left": null,
       "margin": null,
       "max_height": null,
       "max_width": null,
       "min_height": null,
       "min_width": null,
       "object_fit": null,
       "object_position": null,
       "order": null,
       "overflow": null,
       "overflow_x": null,
       "overflow_y": null,
       "padding": null,
       "right": null,
       "top": null,
       "visibility": null,
       "width": null
      }
     }
    },
    "version_major": 2,
    "version_minor": 0
   }
  }
 },
 "nbformat": 4,
 "nbformat_minor": 5
}
